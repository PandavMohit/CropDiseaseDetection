{
  "nbformat": 4,
  "nbformat_minor": 0,
  "metadata": {
    "colab": {
      "provenance": []
    },
    "kernelspec": {
      "name": "python3",
      "display_name": "Python 3"
    },
    "language_info": {
      "name": "python"
    }
  },
  "cells": [
    {
      "cell_type": "markdown",
      "source": [],
      "metadata": {
        "id": "hRPX3xTk6Abk"
      }
    },
    {
      "cell_type": "code",
      "execution_count": null,
      "metadata": {
        "colab": {
          "base_uri": "https://localhost:8080/",
          "height": 646
        },
        "id": "nnBMvzVp0EpE",
        "outputId": "e2d103f8-1c45-41b9-a14f-b45c097ff4cc"
      },
      "outputs": [
        {
          "output_type": "stream",
          "name": "stdout",
          "text": [
            "It looks like you are running Gradio on a hosted Jupyter notebook, which requires `share=True`. Automatically setting `share=True` (you can turn this off by setting `share=False` in `launch()` explicitly).\n",
            "\n",
            "Colab notebook detected. To show errors in colab notebook, set debug=True in launch()\n",
            "* Running on public URL: https://cf501e66d88406e659.gradio.live\n",
            "\n",
            "This share link expires in 1 week. For free permanent hosting and GPU upgrades, run `gradio deploy` from the terminal in the working directory to deploy to Hugging Face Spaces (https://huggingface.co/spaces)\n"
          ]
        },
        {
          "output_type": "display_data",
          "data": {
            "text/plain": [
              "<IPython.core.display.HTML object>"
            ],
            "text/html": [
              "<div><iframe src=\"https://cf501e66d88406e659.gradio.live\" width=\"100%\" height=\"500\" allow=\"autoplay; camera; microphone; clipboard-read; clipboard-write;\" frameborder=\"0\" allowfullscreen></iframe></div>"
            ]
          },
          "metadata": {}
        },
        {
          "output_type": "execute_result",
          "data": {
            "text/plain": []
          },
          "metadata": {},
          "execution_count": 4
        }
      ],
      "source": [
        "!pip install --quiet gradio pillow requests\n",
        "\n",
        "import gradio as gr\n",
        "import requests\n",
        "import base64\n",
        "from PIL import Image\n",
        "import io\n",
        "\n",
        "GEMINI_API_KEY = \"API-KEY\"\n",
        "GEMINI_URL = \"https://generativelanguage.googleapis.com/v1beta/models/gemini-2.0-flash:generateContent\"\n",
        "\n",
        "disease_solutions = {\n",
        "    \"Leaf Spot\": \"⚠ Leaf Spot detected. Use copper-based fungicide and avoid overhead watering.\",\n",
        "    \"Rust\": \"⚠ Rust detected. Remove affected leaves and spray sulfur-based fungicide.\",\n",
        "    \"Blight\": \"⚠ Blight detected. Remove infected plants and apply mancozeb fungicide.\",\n",
        "    \"Healthy\": \"✅ Plant is healthy. Maintain regular watering and sunlight.\"\n",
        "}\n",
        "\n",
        "def analyze_leaf_image(img: Image.Image):\n",
        "    buffered = io.BytesIO()\n",
        "    img.convert(\"RGB\").save(buffered, format=\"JPEG\")\n",
        "    img_base64 = base64.b64encode(buffered.getvalue()).decode()\n",
        "\n",
        "    prompt = \"\"\"\n",
        "    You are an agricultural plant disease detection expert.\n",
        "    Task:\n",
        "    1. Identify if this image shows a crop leaf.\n",
        "    2. If not a leaf, return exactly \"NOT_LEAF\".\n",
        "    3. If it is a leaf, check for visible disease.\n",
        "    4. Classify as one of: Leaf Spot, Rust, Blight, or Healthy.\n",
        "    5. Return only the disease name.\n",
        "    \"\"\"\n",
        "\n",
        "    payload = {\n",
        "        \"contents\": [\n",
        "            {\n",
        "                \"parts\": [\n",
        "                    {\"text\": prompt},\n",
        "                    {\n",
        "                        \"inline_data\": {\n",
        "                            \"mime_type\": \"image/jpeg\",\n",
        "                            \"data\": img_base64\n",
        "                        }\n",
        "                    }\n",
        "                ]\n",
        "            }\n",
        "        ]\n",
        "    }\n",
        "\n",
        "    headers = {\n",
        "        \"Content-Type\": \"application/json\",\n",
        "        \"X-goog-api-key\": GEMINI_API_KEY\n",
        "    }\n",
        "\n",
        "    try:\n",
        "        response = requests.post(GEMINI_URL, headers=headers, json=payload)\n",
        "        result = response.json()\n",
        "\n",
        "        try:\n",
        "            output_text = result[\"candidates\"][0][\"content\"][\"parts\"][0][\"text\"].strip()\n",
        "        except:\n",
        "            return \"❌ Error: Could not analyze the image. Please try again.\"\n",
        "\n",
        "        if \"NOT_LEAF\" in output_text.upper():\n",
        "            return \"❌ Error: Uploaded image does not appear to be a leaf. Please upload a clear leaf image.\"\n",
        "\n",
        "        output_text = output_text.title()\n",
        "        if \"Leaf Spot\" in output_text:\n",
        "            disease = \"Leaf Spot\"\n",
        "        elif \"Rust\" in output_text:\n",
        "            disease = \"Rust\"\n",
        "        elif \"Blight\" in output_text:\n",
        "            disease = \"Blight\"\n",
        "        else:\n",
        "            disease = \"Healthy\"\n",
        "\n",
        "        return f\"🌿 Prediction: {disease}\\nSolution: {disease_solutions[disease]}\"\n",
        "\n",
        "    except Exception as e:\n",
        "        return f\"❌ API Error: {str(e)}\"\n",
        "\n",
        "demo = gr.Interface(\n",
        "    fn=analyze_leaf_image,\n",
        "    inputs=gr.Image(type=\"pil\", label=\"Upload Leaf Image\"),\n",
        "    outputs=gr.Textbox(label=\"Result\"),\n",
        "    title=\"🌱 Crop Disease Detection (Gemini 2.0 Flash)\",\n",
        "    description=\"Upload a leaf image. If not a leaf, an error will appear. If leaf, disease will be detected with a solution.\",\n",
        "    live=False\n",
        ")\n",
        "\n",
        "demo.launch()"
      ]
    }
  ]
}